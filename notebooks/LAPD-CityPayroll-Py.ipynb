{
 "cells": [
  {
   "cell_type": "code",
   "execution_count": null,
   "id": "f576ae0a",
   "metadata": {},
   "outputs": [],
   "source": [
    "# ========================\n",
    "# Libraries\n",
    "# ========================\n",
    "import os\n",
    "import pandas as pd\n",
    "import numpy as np\n",
    "import seaborn as sns\n",
    "import matplotlib.pyplot as plt\n",
    "from statsmodels.tsa.holtwinters import ExponentialSmoothing\n",
    "import warnings"
   ]
  },
  {
   "cell_type": "code",
   "execution_count": null,
   "id": "673599eb",
   "metadata": {},
   "outputs": [],
   "source": [
    "warnings.filterwarnings(\"ignore\")"
   ]
  },
  {
   "cell_type": "code",
   "execution_count": null,
   "id": "871adf60",
   "metadata": {},
   "outputs": [],
   "source": [
    "# ========================\n",
    "# Output Path Configuration\n",
    "# ========================\n",
    "# ⚙️ Change this path to control where output figures are saved\n",
    "FIGURE_DIR = r\"C:\\Users\\jason\\OneDrive\\Desktop\\la-city-payroll-analysis\\Outputs\\Figures\"\n",
    "os.makedirs(FIGURE_DIR, exist_ok=True)"
   ]
  },
  {
   "cell_type": "code",
   "execution_count": null,
   "id": "01deb35a",
   "metadata": {},
   "outputs": [],
   "source": [
    "# ========================\n",
    "# Load + Clean Data\n",
    "# ========================\n",
    "df = pd.read_csv(r\"C:\\Users\\jason\\OneDrive\\Desktop\\la-city-payroll-analysis\\data\\data.csv\")"
   ]
  },
  {
   "cell_type": "code",
   "execution_count": null,
   "id": "d0206f18",
   "metadata": {},
   "outputs": [],
   "source": [
    "# Clean column names\n",
    "df.columns = df.columns.str.strip().str.lower().str.replace(\" \", \"_\")"
   ]
  },
  {
   "cell_type": "code",
   "execution_count": null,
   "id": "14ff83df",
   "metadata": {},
   "outputs": [],
   "source": [
    "# Drop missing or malformed rows\n",
    "df = df[df['total_payments'].notnull()]\n",
    "df = df[df['year'].notnull()]\n",
    "df = df[df['year'] > 2005]"
   ]
  },
  {
   "cell_type": "code",
   "execution_count": null,
   "id": "2f1ad710",
   "metadata": {},
   "outputs": [],
   "source": [
    "# Convert total_payments to numeric (fixes string with $)\n",
    "df['total_payments'] = df['total_payments'].replace('[\\$,]', '', regex=True).astype(float)"
   ]
  },
  {
   "cell_type": "code",
   "execution_count": null,
   "id": "5e0cd477",
   "metadata": {},
   "outputs": [],
   "source": [
    "# ========================\n",
    "# Estimate \"Years of Service\"\n",
    "# ========================\n",
    "df['estimated_start_year'] = df.groupby('job_class_title')['year'].transform('min')\n",
    "df['estimated_years_of_service'] = df['year'] - df['estimated_start_year']\n",
    "df = df[df['estimated_years_of_service'] >= 0]"
   ]
  },
  {
   "cell_type": "code",
   "execution_count": null,
   "id": "86a75c65",
   "metadata": {},
   "outputs": [],
   "source": [
    "# ========================\n",
    "# PART 1 — Pay vs Service (Department Focus)\n",
    "# ========================\n",
    "selected_dept = 'Police (LAPD)'  # 👈 Change to target another department\n",
    "dept_df = df[df['department_title'].str.lower() == selected_dept.lower()]"
   ]
  },
  {
   "cell_type": "code",
   "execution_count": null,
   "id": "542080af",
   "metadata": {},
   "outputs": [],
   "source": [
    "# Top 5 job titles in this department\n",
    "top_jobs = dept_df['job_class_title'].value_counts().head(5).index\n",
    "dept_subset = dept_df[dept_df['job_class_title'].isin(top_jobs)]"
   ]
  },
  {
   "cell_type": "code",
   "execution_count": null,
   "id": "57735e7a",
   "metadata": {},
   "outputs": [],
   "source": [
    "# Scatterplot\n",
    "plt.figure(figsize=(12, 6))\n",
    "sns.scatterplot(data=dept_subset,\n",
    "                x='estimated_years_of_service',\n",
    "                y='total_payments',\n",
    "                hue='job_class_title',\n",
    "                alpha=0.6)\n",
    "plt.title(f\"{selected_dept} — Estimated Years of Service vs Total Pay by Job Title\")\n",
    "plt.xlabel(\"Estimated Years of Service\")\n",
    "plt.ylabel(\"Total Payments ($)\")\n",
    "plt.legend(loc='upper left')\n",
    "plt.tight_layout()\n",
    "plt.savefig(os.path.join(FIGURE_DIR, \"pay_vs_service_scatter.png\"))\n",
    "plt.close()"
   ]
  },
  {
   "cell_type": "code",
   "execution_count": null,
   "id": "19633949",
   "metadata": {},
   "outputs": [],
   "source": [
    "# Optional: Add boxplot with binned service years\n",
    "if not dept_subset.empty:\n",
    "    dept_subset['service_bins'] = pd.cut(dept_subset['estimated_years_of_service'], bins=10)\n",
    "\n",
    "    plt.figure(figsize=(12, 6))\n",
    "    sns.boxplot(data=dept_subset, x='service_bins', y='total_payments', hue='job_class_title')\n",
    "    plt.title(f\"{selected_dept} — Pay Distribution by Years of Service (Binned)\")\n",
    "    plt.xlabel(\"Service Years\")\n",
    "    plt.ylabel(\"Total Payments ($)\")\n",
    "    plt.xticks(rotation=45)\n",
    "    plt.tight_layout()\n",
    "    plt.savefig(os.path.join(FIGURE_DIR, \"pay_distribution_boxplot.png\"))\n",
    "    plt.close()\n",
    "else:\n",
    "    print(f\"⚠️ No records found for selected department '{selected_dept}' with top job titles.\")"
   ]
  },
  {
   "cell_type": "code",
   "execution_count": null,
   "id": "fa35aa32",
   "metadata": {},
   "outputs": [],
   "source": [
    "# ========================\n",
    "# PART 2 — Payroll Forecast (Holt-Winters)\n",
    "# ========================\n",
    "forecast_start = 2013\n",
    "forecast_end = 2017\n",
    "forecast_years = forecast_end - forecast_start + 1"
   ]
  },
  {
   "cell_type": "code",
   "execution_count": null,
   "id": "16af5505",
   "metadata": {},
   "outputs": [],
   "source": [
    "# Prepare payroll trend data\n",
    "payroll_trend = df.groupby('year')['total_payments'].sum().sort_index()"
   ]
  },
  {
   "cell_type": "code",
   "execution_count": null,
   "id": "f6fb716d",
   "metadata": {},
   "outputs": [],
   "source": [
    "# Fit Holt-Winters model (additive trend, no seasonality)\n",
    "hw_model = ExponentialSmoothing(payroll_trend, trend='add', seasonal=None)\n",
    "hw_fit = hw_model.fit()"
   ]
  },
  {
   "cell_type": "code",
   "execution_count": null,
   "id": "31ca9eaf",
   "metadata": {},
   "outputs": [],
   "source": [
    "# Forecast\n",
    "forecast_hw = hw_fit.forecast(forecast_years)"
   ]
  },
  {
   "cell_type": "code",
   "execution_count": null,
   "id": "0aa165b6",
   "metadata": {},
   "outputs": [],
   "source": [
    "# Confidence intervals\n",
    "residuals = hw_fit.fittedvalues - payroll_trend\n",
    "residual_std = residuals.std()\n",
    "z = 1.96  # 95% confidence level"
   ]
  },
  {
   "cell_type": "code",
   "execution_count": null,
   "id": "b863d8c9",
   "metadata": {},
   "outputs": [],
   "source": [
    "forecast_years_range = np.arange(forecast_start, forecast_end + 1)\n",
    "forecast_df = pd.DataFrame({\n",
    "    'year': forecast_years_range,\n",
    "    'forecast': forecast_hw,\n",
    "    'lower_ci': forecast_hw - z * residual_std,\n",
    "    'upper_ci': forecast_hw + z * residual_std\n",
    "})"
   ]
  },
  {
   "cell_type": "code",
   "execution_count": null,
   "id": "f0fbf2dc",
   "metadata": {},
   "outputs": [],
   "source": [
    "# Plot forecast\n",
    "plt.figure(figsize=(12, 6))\n",
    "sns.lineplot(x=payroll_trend.index, y=payroll_trend.values, label='Historical', marker='o')\n",
    "plt.plot(forecast_df['year'], forecast_df['forecast'], linestyle='--', color='green', label='Forecast (Holt-Winters)')\n",
    "plt.fill_between(forecast_df['year'], forecast_df['lower_ci'], forecast_df['upper_ci'], color='green', alpha=0.2, label='95% Confidence Interval')\n",
    "plt.title(f\"Payroll Forecast: {forecast_start}-{forecast_end} with 95% Confidence Interval\")\n",
    "plt.xlabel(\"Year\")\n",
    "plt.ylabel(\"Total Payroll ($)\")\n",
    "plt.legend()\n",
    "plt.tight_layout()\n",
    "plt.savefig(os.path.join(FIGURE_DIR, \"payroll_forecast_ci.png\"))\n",
    "plt.close()"
   ]
  },
  {
   "cell_type": "code",
   "execution_count": null,
   "id": "8dba9fef",
   "metadata": {},
   "outputs": [],
   "source": [
    "print(f\"Expected total payroll cost in {forecast_end}: ${forecast_df['forecast'].iloc[-1]:,.2f}\")\n",
    "print(f\"95% CI: ${forecast_df['lower_ci'].iloc[-1]:,.2f} - ${forecast_df['upper_ci'].iloc[-1]:,.2f}\")"
   ]
  },
  {
   "cell_type": "code",
   "execution_count": null,
   "id": "3483a748",
   "metadata": {},
   "outputs": [],
   "source": [
    "# ========================\n",
    "# PART 3 — Per Job Title Median Pay per Year\n",
    "# ========================\n",
    "# Calculate median pay per job title per year (for top 5 in selected department)\n",
    "dept_df = df[df['department_title'].str.lower() == selected_dept.lower()]\n",
    "top_jobs = dept_df['job_class_title'].value_counts().head(5).index\n",
    "median_pay_by_job_year = dept_df[dept_df['job_class_title'].isin(top_jobs)].groupby(['year', 'job_class_title'])['total_payments'].median().reset_index()"
   ]
  },
  {
   "cell_type": "code",
   "execution_count": null,
   "id": "b29bb642",
   "metadata": {},
   "outputs": [],
   "source": [
    "# Pivot for easier plotting\n",
    "median_pay_pivot = median_pay_by_job_year.pivot(index='year', columns='job_class_title', values='total_payments')"
   ]
  },
  {
   "cell_type": "code",
   "execution_count": null,
   "id": "f01f3173",
   "metadata": {},
   "outputs": [],
   "source": [
    "# Plot\n",
    "plt.figure(figsize=(14, 7))\n",
    "sns.lineplot(data=median_pay_pivot)\n",
    "plt.title(f\"Median Total Pay Over Time by Job Title ({selected_dept})\")\n",
    "plt.xlabel(\"Year\")\n",
    "plt.ylabel(\"Median Total Payments ($)\")\n",
    "plt.legend(title='Job Title', loc='upper left')\n",
    "plt.tight_layout()\n",
    "plt.savefig(os.path.join(FIGURE_DIR, \"median_pay_by_job_title.png\"))\n",
    "plt.close()"
   ]
  }
 ],
 "metadata": {
  "jupytext": {
   "cell_metadata_filter": "-all",
   "main_language": "python",
   "notebook_metadata_filter": "-all"
  }
 },
 "nbformat": 4,
 "nbformat_minor": 5
}
