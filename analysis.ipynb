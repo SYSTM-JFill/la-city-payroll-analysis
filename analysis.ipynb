# ========================
# Libraries
# ========================
import pandas as pd
import numpy as np
import seaborn as sns
import matplotlib.pyplot as plt
from sklearn.linear_model import LinearRegression
import warnings

warnings.filterwarnings("ignore")

# ========================
# Load + Clean Data
# ========================
df = pd.read_csv(r"C:\Users\jason\OneDrive\Desktop\la-city-payroll-analysis\data\data.csv") # UPDATE THIS TO YOUR PATH - WHOEVER FINDS THIS ON GITHUB

# Clean column names
df.columns = df.columns.str.strip().str.lower().str.replace(" ", "_")

# Clean currency fields — remove '$' and ',' from 'total_payments' and convert to float
df['total_payments'] = df['total_payments'].replace('[\$,]', '', regex=True).astype(float)

# Filter valid rows
df = df[df['total_payments'].notnull()]
df = df[df['year'].notnull()]
df = df[df['year'] > 2005]

# ========================
# Estimate "Years of Service"
# ========================
df['estimated_start_year'] = df.groupby('job_class_title')['year'].transform('min')
df['estimated_years_of_service'] = df['year'] - df['estimated_start_year']
df = df[df['estimated_years_of_service'] >= 0]

# ========================
# PART 1 — Pay Anomalies (by Department)
# ========================
pay_cols = ['department_title', 'estimated_years_of_service', 'total_payments']
pay_df = df[pay_cols].dropna()

# Top 5 departments by employee count
top_departments = df['department_title'].value_counts().head(5).index
subset = pay_df[pay_df['department_title'].isin(top_departments)]

# Plot: Pay vs Estimated Years of Service
plt.figure(figsize=(12, 6))
sns.scatterplot(data=subset, x='estimated_years_of_service', y='total_payments',
                hue='department_title', alpha=0.6)
plt.title("Estimated Years of Service vs Total Pay by Department")
plt.xlabel("Estimated Years of Service")
plt.ylabel("Total Payments ($)")
plt.legend(loc='upper left')
plt.tight_layout()
plt.show()

# Detect outliers per department
for dept in top_departments:
    group = subset[subset['department_title'] == dept]
    X = group[['estimated_years_of_service']]
    y = group['total_payments']
    if len(group) >= 2:  # Ensure at least 2 samples to train model
        model = LinearRegression().fit(X, y)
        group['predicted'] = model.predict(X)
        group['residual'] = group['total_payments'] - group['predicted']
        outliers = group[np.abs(group['residual']) > group['residual'].std() * 2]
        print(f"{dept} — {len(outliers)} potential anomalies found")
    else:
        print(f"{dept} — Not enough data to fit model")

# ========================
# PART 2 — Payroll Forecast
# ========================
# Group yearly total payments (already cleaned)
payroll_trend = df.groupby('year')['total_payments'].sum().reset_index()

# Plot trend
plt.figure(figsize=(10, 5))
sns.lineplot(data=payroll_trend, x='year', y='total_payments', marker='o')
plt.title("Annual Payroll Cost Over Time")
plt.xlabel("Year")
plt.ylabel("Total Payroll ($)")
plt.tight_layout()
plt.show()

# Forecast payroll for 2030
X = payroll_trend[['year']]
y = payroll_trend['total_payments']
model = LinearRegression().fit(X, y)
forecast = model.predict(np.array([[2030]]))

print(f"Expected total payroll cost in 2030: ${forecast[0]:,.2f}")

