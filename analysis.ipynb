# Data libraries
import pandas as pd
import numpy as np

# Visualization
import seaborn as sns
import matplotlib.pyplot as plt

# Machine Learning
from sklearn.linear_model import LinearRegression
from sklearn.model_selection import train_test_split

# Suppress warnings for clean output
import warnings
warnings.filterwarnings("ignore")

# Load data (assuming you've already used kagglehub to download it)
df = pd.read_csv("../data/City_Employee_Payroll.csv")

# Initial inspection
print(df.shape)
print(df.columns)
df.head()

# Clean column names (optional, adjust as needed)
df.columns = df.columns.str.strip().str.lower().str.replace(" ", "_")

# Filter out rows with missing or invalid data
df = df[df['total_payments'].notnull()]
df = df[df['year'] > 2005]  # Assuming year is a column

# ================================
# PART 1: Detect Pay Anomalies
# ================================

# Let's look at pay vs. years of service by job title
pay_by_experience = df[['job_title', 'years_of_service', 'total_payments']].dropna()

# Visualize: Pay vs Experience across popular job titles
top_titles = df['job_title'].value_counts().head(5).index
subset = pay_by_experience[pay_by_experience['job_title'].isin(top_titles)]

plt.figure(figsize=(12, 6))
sns.scatterplot(data=subset, x='years_of_service', y='total_payments', hue='job_title', alpha=0.6)
plt.title("Years of Service vs Total Pay by Job Title")
plt.xlabel("Years of Service")
plt.ylabel("Total Payments")
plt.legend(loc='upper left')
plt.tight_layout()
plt.show()

# Optional: Fit a linear model for each title to detect outliers
for title in top_titles:
    group = subset[subset['job_title'] == title]
    X = group[['years_of_service']]
    y = group['total_payments']
    model = LinearRegression().fit(X, y)
    group['predicted'] = model.predict(X)
    group['residual'] = group['total_payments'] - group['predicted']
    
    # Identify outliers
    outliers = group[np.abs(group['residual']) > group['residual'].std() * 2]
    print(f"{title} — {len(outliers)} potential anomalies found")

# ================================
# PART 2: Forecast Total Payroll Cost
# ================================

# Group by year and sum total payments
payroll_trend = df.groupby('year')['total_payments'].sum().reset_index()

# Plot trend
plt.figure(figsize=(10, 5))
sns.lineplot(data=payroll_trend, x='year', y='total_payments', marker='o')
plt.title("Annual Payroll Cost Over Time")
plt.ylabel("Total Payroll ($)")
plt.xlabel("Year")
plt.tight_layout()
plt.show()

# Forecast payroll in 2030 using linear regression
X = payroll_trend[['year']]
y = payroll_trend['total_payments']
model = LinearRegression().fit(X, y)
future_year = np.array([[2030]])
forecast = model.predict(future_year)

print(f"Expected total payroll cost in 2030: ${forecast[0]:,.2f}")
